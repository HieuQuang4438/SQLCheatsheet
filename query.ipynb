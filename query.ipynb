{
 "cells": [
  {
   "cell_type": "markdown",
   "metadata": {},
   "source": [
    "# 1. Organizing"
   ]
  },
  {
   "cell_type": "markdown",
   "metadata": {},
   "source": [
    "## 1.1. Subqueries"
   ]
  },
  {
   "cell_type": "code",
   "execution_count": null,
   "metadata": {
    "vscode": {
     "languageId": "sql"
    }
   },
   "outputs": [],
   "source": [
    "select employee.first_name, employee.last_name\n",
    "from employee\n",
    "where employee.emp_id in (\n",
    "    select works_with.emp_id\n",
    "    from works_with\n",
    "    where works_with.total_sales > 30000\n",
    ");"
   ]
  },
  {
   "cell_type": "markdown",
   "metadata": {},
   "source": [
    "## 1.2. Common tabel expression (CTE)"
   ]
  },
  {
   "cell_type": "code",
   "execution_count": null,
   "metadata": {
    "vscode": {
     "languageId": "sql"
    }
   },
   "outputs": [],
   "source": [
    "WITH first_term as\n",
    "(\n",
    "    SELECT id_bioguide\n",
    "    ,min(term_start) as first_term\n",
    "    FROM legislators_terms\n",
    "    GROUP BY 1\n",
    ")\n",
    "SELECT date_part('year',age(b.term_start,a.first_term)) as periods\n",
    ",count(distinct a.id_bioguide) as cohort_retained\n",
    "FROM first_term a\n",
    "JOIN legislators_terms b on a.id_bioguide = b.id_bioguide\n",
    "GROUP BY 1\n",
    ";\n",
    "/*If a CTE is involved, however, all of the surrounding\n",
    "code must be commented out first.*/"
   ]
  },
  {
   "cell_type": "code",
   "execution_count": null,
   "metadata": {
    "vscode": {
     "languageId": "sql"
    }
   },
   "outputs": [],
   "source": [
    "-- We have multiple queries with one 'WITH'\n",
    "WITH aa as (\n",
    "),\n",
    "bb as ()"
   ]
  },
  {
   "cell_type": "markdown",
   "metadata": {},
   "source": [
    "## 1.3. Statements and order of execution"
   ]
  },
  {
   "cell_type": "markdown",
   "metadata": {},
   "source": [
    "1. FROM, JOIN\n",
    "2. WHERE\n",
    "3. GROUP BY\n",
    "4. aggregate functions\n",
    "5. HAVING\n",
    "6. window functions\n",
    "7. SELECT\n",
    "8. DISTINCT\n",
    "9. UNION/INTERSECT/EXCEPT\n",
    "10. ORDER BY\n",
    "11. OFFSET\n",
    "12. LIMIT/FETCH/TOP\n",
    "\n",
    "![alt text](image/order.png)\n",
    "\n",
    "**Note that:**\n",
    "- Aggregate functions can be within HAVING, but not in WHERE\n",
    "- You can use window functions in SELECT and ORDER BY. However, you can’t put window functions anywhere in the FROM, WHERE, GROUP BY, or HAVING clauses\n",
    "- ORDER BY can not be writen within views, CTEs, or subqueries\n",
    "- In GROUP BY, ORDER BY clause, we can use number to call columns (in SELECT)"
   ]
  },
  {
   "cell_type": "markdown",
   "metadata": {},
   "source": [
    "### JOIN"
   ]
  },
  {
   "cell_type": "markdown",
   "metadata": {},
   "source": [
    "#### Non-equality JOIN"
   ]
  },
  {
   "cell_type": "code",
   "execution_count": null,
   "metadata": {
    "vscode": {
     "languageId": "sql"
    }
   },
   "outputs": [],
   "source": [
    "SELECT\n",
    "a.toy_name AS toy_a,\n",
    "b.toy_name AS toy_b\n",
    "FROM toy a\n",
    "JOIN toy b\n",
    "ON a.cat_id < b.cat_id;"
   ]
  },
  {
   "cell_type": "markdown",
   "metadata": {},
   "source": [
    "#### Multiple conditions JOIN"
   ]
  },
  {
   "cell_type": "code",
   "execution_count": null,
   "metadata": {
    "vscode": {
     "languageId": "sql"
    }
   },
   "outputs": [],
   "source": [
    "SELECT\n",
    "\tcat_name,\n",
    "\to.name AS owner_name,\n",
    "\tc.age AS cat_age,\n",
    "\to.age AS owner_age\n",
    "FROM cat c\n",
    "JOIN owner o ON c.owner_id = o.id\n",
    "\tAND c.age < o.age;\n",
    "\n",
    "select s.name as name\n",
    "        ,s.marks as mark\n",
    "        ,g.grade as grade\n",
    "    from students s\n",
    "    left join grades g on s.marks between g.min_mark and g.max_mark\n",
    "    -- s.marks > g.min_mark and s.marks < g.max_mark"
   ]
  },
  {
   "cell_type": "markdown",
   "metadata": {},
   "source": [
    "#### List of all combination with JOIN"
   ]
  },
  {
   "cell_type": "code",
   "execution_count": null,
   "metadata": {
    "vscode": {
     "languageId": "sql"
    }
   },
   "outputs": [],
   "source": [
    "select distinct a.emp_name\n",
    "\t,b.month_no\n",
    "from od_table a\n",
    "join (select distinct extract(month from order_dt) as month_no from od_table) b\n",
    "\ton 1=1\n",
    "where emp_name is not null\n",
    "order by 1,2"
   ]
  },
  {
   "cell_type": "markdown",
   "metadata": {},
   "source": [
    "#### Multiple JOIN"
   ]
  },
  {
   "cell_type": "markdown",
   "metadata": {},
   "source": [
    "First, two tables are joined, then the third table is joined to the result of the previous joining"
   ]
  },
  {
   "cell_type": "markdown",
   "metadata": {},
   "source": [
    "### GROUP BY"
   ]
  },
  {
   "cell_type": "markdown",
   "metadata": {},
   "source": [
    "The `GROUP BY` clause is required when the SELECT clause contains aggregations and at least one nonaggregated field. An easy way to remember what should go in the GROUP BY clause is that it should have **every field that is not part of an aggregation**"
   ]
  },
  {
   "cell_type": "markdown",
   "metadata": {},
   "source": [
    "### UNION"
   ]
  },
  {
   "cell_type": "markdown",
   "metadata": {},
   "source": [
    "#### UNION vs UNION ALL"
   ]
  },
  {
   "cell_type": "markdown",
   "metadata": {},
   "source": [
    "- UNION removes duplicates\n",
    "- UNION ALL is faster, since the database doesn’t have to do a pass over the data to find duplicates"
   ]
  },
  {
   "cell_type": "markdown",
   "metadata": {},
   "source": [
    "#### Unpivoting with UNION"
   ]
  },
  {
   "cell_type": "markdown",
   "metadata": {},
   "source": [
    "**Use `UNION` to combine datasets from multiple queries**\n",
    "\n",
    "- The numbers of columns and datatypes of each component queries must match\n",
    "- The columns name come from the the first query\n",
    "\n",
    "Eg:\n",
    "![alt text](image/image.png)"
   ]
  },
  {
   "cell_type": "code",
   "execution_count": null,
   "metadata": {
    "vscode": {
     "languageId": "sql"
    }
   },
   "outputs": [],
   "source": [
    "SELECT country, '1980' as year, year_1980 as population FROM country_populations\n",
    "UNION ALL\n",
    "SELECT country, '1990' as year, year_1990 as population FROM country_populations\n",
    "UNION ALL\n",
    "SELECT country, '2000' as year, year_2000 as population FROM country_populations\n",
    "UNION ALL\n",
    "SELECT country, '2010' as year, year_2010 as population FROM country_populations;"
   ]
  },
  {
   "cell_type": "markdown",
   "metadata": {},
   "source": [
    "# 2. Functions"
   ]
  },
  {
   "cell_type": "markdown",
   "metadata": {},
   "source": [
    "## 2.1. Numeric functions"
   ]
  },
  {
   "cell_type": "markdown",
   "metadata": {},
   "source": [
    "### Exponential"
   ]
  },
  {
   "cell_type": "code",
   "execution_count": null,
   "metadata": {
    "vscode": {
     "languageId": "sql"
    }
   },
   "outputs": [],
   "source": [
    "square() -- square\n",
    "POWER(base, exponent) -- exponentiation\n",
    "SQRT(9) -- square root"
   ]
  },
  {
   "cell_type": "markdown",
   "metadata": {},
   "source": [
    "## 2.2 CASE statement"
   ]
  },
  {
   "cell_type": "code",
   "execution_count": null,
   "metadata": {
    "vscode": {
     "languageId": "sql"
    }
   },
   "outputs": [],
   "source": [
    "case    \n",
    "  when condition1 then return_value_1\n",
    "  when condition2 then return_value_2\n",
    "  ...\n",
    "  else return_value_default end\n",
    "\n",
    "-- can write like this\n",
    "case variable\n",
    "\twhen value1 then return1\n",
    "\twhen value2 then return2\n",
    "\t...\n",
    "\telse default end"
   ]
  },
  {
   "cell_type": "markdown",
   "metadata": {},
   "source": [
    "### Pivot with CASE"
   ]
  },
  {
   "cell_type": "code",
   "execution_count": null,
   "metadata": {
    "vscode": {
     "languageId": "sql"
    }
   },
   "outputs": [],
   "source": [
    "SELECT order_date\n",
    "\t,sum(case when product = 'shirt' then order_amount else 0 end) as shirts_amount\n",
    "\t,sum(case when product = 'shoes' then order_amount else 0 end) as shoes_amount\n",
    "\t,sum(case when product = 'hat' then order_amount else 0 end) as hats_amount\n",
    "FROM orders GROUP BY 1;\n",
    "\n",
    "SELECT gender, first_state\n",
    "  ,max(case when period = 0 then pct_retained end) as yr0\n",
    "  ,max(case when period = 2 then pct_retained end) as yr2\n",
    "  ,max(case when period = 4 then pct_retained end) as yr4\n",
    "  ,max(case when period = 6 then pct_retained end) as yr6\n",
    "  ,max(case when period = 8 then pct_retained end) as yr8\n",
    "  ,max(case when period = 10 then pct_retained end) as yr10\n",
    "FROM sparse_cohort\n",
    "WHERE first_state = 'AL'\n",
    "GROUP BY 1,2;"
   ]
  },
  {
   "cell_type": "markdown",
   "metadata": {},
   "source": [
    "## 2.3. Window functions"
   ]
  },
  {
   "cell_type": "code",
   "execution_count": null,
   "metadata": {
    "vscode": {
     "languageId": "sql"
    }
   },
   "outputs": [],
   "source": [
    "window_function(column) OVER \n",
    "    (PARTITION BY partition_column -- separate each categories in the field\n",
    "\tORDER BY order_column -- clause determines the ordering of the rows\n",
    "\tROWS/RANGE frame_definition) \n",
    "\n",
    "-- aggregate\n",
    "avg()\n",
    "max() / min()\n",
    "sum()\n",
    "count()\n",
    "\n",
    "-- ranking\n",
    "row_number()\n",
    "rank()\n",
    "dense_rank()\n",
    "percent()\n",
    "percentile_cont()\n",
    "ntile() / qcut()\n",
    "cume_dist()\n",
    "\n",
    "-- value\n",
    "lag() / lead()\n",
    "first_value() / last_value()\n",
    "nth_value()"
   ]
  },
  {
   "cell_type": "markdown",
   "metadata": {},
   "source": [
    "### `ntile`"
   ]
  },
  {
   "cell_type": "code",
   "execution_count": null,
   "metadata": {
    "vscode": {
     "languageId": "sql"
    }
   },
   "outputs": [],
   "source": [
    "select customer_id, order_id, order_amount,\n",
    "ntile(10) over (order by order_amount) as n_tile\n",
    "from orders"
   ]
  },
  {
   "cell_type": "markdown",
   "metadata": {},
   "source": [
    "### `percent_rank`"
   ]
  },
  {
   "cell_type": "code",
   "execution_count": null,
   "metadata": {
    "vscode": {
     "languageId": "sql"
    }
   },
   "outputs": [],
   "source": [
    "percent_rank() over (order by order_amount) *100 as n_tile"
   ]
  },
  {
   "cell_type": "markdown",
   "metadata": {},
   "source": [
    "### `lag/lead`"
   ]
  },
  {
   "cell_type": "markdown",
   "metadata": {},
   "source": [
    "Carrying over a value from the previous row is called **fill forward**, while using a value from the next row is called **fill backward**. These can be accomplished with the `lag` and `lead` window functions, respectively"
   ]
  },
  {
   "cell_type": "code",
   "execution_count": null,
   "metadata": {
    "vscode": {
     "languageId": "sql"
    }
   },
   "outputs": [],
   "source": [
    "LAG(expression [, offset])\n",
    "\n",
    "-- LAG retrieves a value from a specified number of rows before the current row.\n",
    "-- By default, it retrieves the value from the immediately preceding row (offset of 1)."
   ]
  },
  {
   "cell_type": "markdown",
   "metadata": {},
   "source": [
    "### `percentile_cont`"
   ]
  },
  {
   "cell_type": "code",
   "execution_count": null,
   "metadata": {
    "vscode": {
     "languageId": "sql"
    }
   },
   "outputs": [],
   "source": [
    "SELECT\n",
    "  percentile_cont(0.25) within group (order by mag) as pct_25\n",
    "  ,percentile_cont(0.5) within group (order by mag) as pct_50\n",
    "  ,percentile_cont(0.75) within group (order by mag) as pct_75"
   ]
  },
  {
   "cell_type": "markdown",
   "metadata": {},
   "source": [
    "# 3. Other syntax"
   ]
  },
  {
   "cell_type": "markdown",
   "metadata": {},
   "source": [
    "## Operators"
   ]
  },
  {
   "cell_type": "markdown",
   "metadata": {},
   "source": [
    "### Comparison operators"
   ]
  },
  {
   "cell_type": "code",
   "execution_count": null,
   "metadata": {
    "vscode": {
     "languageId": "sql"
    }
   },
   "outputs": [],
   "source": [
    "=\n",
    "<>\n",
    "> >=\n",
    "< <="
   ]
  },
  {
   "cell_type": "markdown",
   "metadata": {},
   "source": [
    "### Logical operators"
   ]
  },
  {
   "cell_type": "code",
   "execution_count": null,
   "metadata": {
    "vscode": {
     "languageId": "sql"
    }
   },
   "outputs": [],
   "source": [
    "AND\n",
    "OR \n",
    "IS\n",
    "NOT\n",
    "\n",
    "BETWEEN\n",
    "-- Inclusive for both the lower and upper bounds\n",
    "-- Eg: between 600 and 900\n",
    "\n",
    "IN\n",
    "-- Eg: \n",
    "    where name in ('Claire', 'Kate', 'Mike')"
   ]
  },
  {
   "cell_type": "markdown",
   "metadata": {},
   "source": [
    "We can compare multiple variable: `(a, b, c) = (x, y, z)` or `(a, b, c) in (x, y, z)`"
   ]
  },
  {
   "cell_type": "code",
   "execution_count": null,
   "metadata": {
    "vscode": {
     "languageId": "sql"
    }
   },
   "outputs": [],
   "source": [
    "select \n",
    "\tw.id\n",
    "    ,wp.age\n",
    "    ,w.coins_needed\n",
    "    ,w.power\n",
    "from Wands w\n",
    "join Wands_Property wp on w.code = wp.code \n",
    "where wp.is_evil = 0 \n",
    "  and (wp.age, w.coins_needed, w.power) in (\n",
    "    select wp.age, min(w.coins_needed), w.power\n",
    "    from Wands w\n",
    "    join Wands_Property wp\n",
    "      on w.code = wp.code\n",
    "    group by age , power)\n",
    "order by 4 desc, 2 desc;"
   ]
  },
  {
   "cell_type": "markdown",
   "metadata": {},
   "source": [
    "## Wildcards"
   ]
  },
  {
   "cell_type": "code",
   "execution_count": null,
   "metadata": {
    "vscode": {
     "languageId": "sql"
    }
   },
   "outputs": [],
   "source": [
    "-- find any client's who are an LLC\n",
    "select *\n",
    "from client\n",
    "where client_name LIKE '%LLC'; -- % = any number of characters, _ = 1 character\n",
    "\n",
    "select *\n",
    "from branch_supplier\n",
    "where supplier_name LIKE '%Label%';\n",
    "\n",
    "-- find any employee born in Oct\n",
    "select * from employee\n",
    "where birth_day like '____-10%';\n",
    "\n",
    "-- find any clients who are schools\n",
    "select *\n",
    "from client\n",
    "where client_name like '%School%';\n",
    "\n",
    "-- tell SQL to treat wildcard characters as literal characters\n",
    "select 'abc a%b abc' like '%\\%%';\n",
    "select 'abc a__b abc' like '%\\_\\_%';"
   ]
  },
  {
   "cell_type": "markdown",
   "metadata": {},
   "source": [
    "# 4. Use case"
   ]
  },
  {
   "cell_type": "markdown",
   "metadata": {},
   "source": [
    "## 4.1. Cleaning"
   ]
  },
  {
   "cell_type": "markdown",
   "metadata": {},
   "source": [
    "### 4.1.1. Detecting duplicates"
   ]
  },
  {
   "cell_type": "markdown",
   "metadata": {},
   "source": [
    "Use subquery and `where` clause"
   ]
  },
  {
   "cell_type": "code",
   "execution_count": null,
   "metadata": {
    "vscode": {
     "languageId": "sql"
    }
   },
   "outputs": [],
   "source": [
    "SELECT *\n",
    "FROM (\n",
    "    SELECT customer_id, order_amount, sex, cashier, count(*) as records\n",
    "    FROM orders\n",
    "    GROUP BY 1,2,3,4\n",
    ") a\n",
    "WHERE records > 1;"
   ]
  },
  {
   "cell_type": "markdown",
   "metadata": {},
   "source": [
    "Use `having` clause"
   ]
  },
  {
   "cell_type": "code",
   "execution_count": null,
   "metadata": {
    "vscode": {
     "languageId": "sql"
    }
   },
   "outputs": [],
   "source": [
    "SELECT \n",
    "column_a, column_b, column_c..., count(*) as records\n",
    "FROM...\n",
    "GROUP BY 1,2,3...\n",
    "HAVING count(*) > 1;"
   ]
  },
  {
   "cell_type": "markdown",
   "metadata": {},
   "source": [
    "### 4.1.2. Handling duplicates"
   ]
  },
  {
   "cell_type": "markdown",
   "metadata": {},
   "source": [
    "Use `distinct` or `group by` (usually with an aggregation)"
   ]
  },
  {
   "cell_type": "markdown",
   "metadata": {},
   "source": [
    "### 4.1.3. Handling nulls"
   ]
  },
  {
   "cell_type": "markdown",
   "metadata": {
    "vscode": {
     "languageId": "sql"
    }
   },
   "source": [
    "With `case`"
   ]
  },
  {
   "cell_type": "code",
   "execution_count": null,
   "metadata": {
    "vscode": {
     "languageId": "sql"
    }
   },
   "outputs": [],
   "source": [
    "case when num_orders is null then 0 \n",
    "\telse num_orders end\n",
    "\t\n",
    "case when address is null then 'Unknown' \n",
    "\telse address end\n",
    "\t\n",
    "case when column_a is null then column_b \n",
    "\telse column_a end"
   ]
  },
  {
   "cell_type": "markdown",
   "metadata": {},
   "source": [
    "With `coalesce` function"
   ]
  },
  {
   "cell_type": "markdown",
   "metadata": {},
   "source": [
    "### 4.1.4. Dealing with missing data"
   ]
  },
  {
   "cell_type": "markdown",
   "metadata": {},
   "source": [
    "**Fill missing data with a constant value**\n",
    "\n",
    "For example, imagine there was a software bug that prevented filling the price for an item called “xyz,” but we know the price is always $20. A CASE statement can be added to the query to handle this:"
   ]
  },
  {
   "cell_type": "code",
   "execution_count": null,
   "metadata": {
    "vscode": {
     "languageId": "sql"
    }
   },
   "outputs": [],
   "source": [
    "case when price is null and item_name = 'xyz' then 20\n",
    "\telse price\n",
    "\tend as price"
   ]
  },
  {
   "cell_type": "markdown",
   "metadata": {},
   "source": [
    "**Fill with a derived value**\n",
    "\n",
    "Either a mathematical function on other columns or a CASE statement\n",
    "\n",
    "For example, we can calculate net_sales by subtracting discount from gross_sales:"
   ]
  },
  {
   "cell_type": "code",
   "execution_count": null,
   "metadata": {
    "vscode": {
     "languageId": "sql"
    }
   },
   "outputs": [],
   "source": [
    "SELECT gross_sales - discount as net_sales..."
   ]
  },
  {
   "cell_type": "markdown",
   "metadata": {},
   "source": [
    "**Fill with values from other rows**"
   ]
  },
  {
   "cell_type": "markdown",
   "metadata": {},
   "source": [
    "**Lack of granularity**\n",
    "\n",
    "For data that is available but not at the granularity needed (lack of granularity), we often have to ***create additional rows*** in the data set\n",
    "\n",
    "Annual subscription example: We can spread this annual subscription amount into 12 equal monthly revenue amounts by dividing by 12:"
   ]
  },
  {
   "cell_type": "code",
   "execution_count": null,
   "metadata": {
    "vscode": {
     "languageId": "sql"
    }
   },
   "outputs": [],
   "source": [
    "SELECT customer_id, subscription_date, annual_amount\n",
    ", annual_amount / 12 as month_1, annual_amount / 12 as month_2\n",
    "...,annual_amount / 12 as month_12\n",
    "FROM customer_subscriptions;"
   ]
  },
  {
   "cell_type": "markdown",
   "metadata": {},
   "source": [
    "We can use the date dimension to create a record for each month by `JOINing` the date dimension on dates that are between the subscription_date and 11 months later (for 12 total months):"
   ]
  },
  {
   "cell_type": "code",
   "execution_count": null,
   "metadata": {
    "vscode": {
     "languageId": "sql"
    }
   },
   "outputs": [],
   "source": [
    "SELECT a.date\n",
    ",b.customer_id,b.subscription_date,b.annual_amount / 12 as monthly_subscription\n",
    "FROM date_dim a\n",
    "JOIN customer_subscriptions b on a.date between b.subscription_date\n",
    "and b.subscription_date + interval 11 month;"
   ]
  },
  {
   "cell_type": "markdown",
   "metadata": {},
   "source": [
    "## 4.2. Data transformations"
   ]
  },
  {
   "cell_type": "markdown",
   "metadata": {},
   "source": [
    "With `case`\n",
    "\n",
    "`CASE` can clean, enrich, flag or add dummy variables"
   ]
  },
  {
   "cell_type": "code",
   "execution_count": null,
   "metadata": {
    "vscode": {
     "languageId": "sql"
    }
   },
   "outputs": [],
   "source": [
    "CASE when gender = 'F' then 'Female'\n",
    "\twhen gender = 'female' then 'Female'\n",
    "\twhen gender = 'femme' then 'Female'\n",
    "\telse gender\n",
    "\tend as gender_cleaned\n",
    "\t\n",
    "-- CASE statements can consider multiple columns and can contain AND/OR logic. \n",
    "-- They can also be nested, though often this can be avoided with AND/OR logic:\n",
    "\n",
    "case \n",
    "\twhen likelihood <= 6 and country = 'US' and high_value = true then 'US high value detractor'\n",
    "\twhen likelihood >= 9 and (country in ('CA','JP') or high_value = true) then 'some other label'\n",
    "\t... end"
   ]
  },
  {
   "cell_type": "markdown",
   "metadata": {},
   "source": [
    "### Binning"
   ]
  },
  {
   "cell_type": "markdown",
   "metadata": {},
   "source": [
    "**Binning intro**\n",
    "\n",
    "Binning → work with continuous values\n",
    "\n",
    "Ranges of values are grouped together → ***bins or buckets***\n",
    "\n",
    "Arbitrary-sized bins <> Fixed-sized bins (rounding, logarithms, n-tiles)"
   ]
  },
  {
   "cell_type": "markdown",
   "metadata": {},
   "source": [
    "#### Binning with `case`"
   ]
  },
  {
   "cell_type": "code",
   "execution_count": null,
   "metadata": {
    "vscode": {
     "languageId": "sql"
    }
   },
   "outputs": [],
   "source": [
    "SELECT\n",
    "    case\n",
    "        when order_amount <= 100 then 'up to 100'\n",
    "        when order_amount <= 500 then '100 - 500'\n",
    "        else '500+' end as amount_bin,\n",
    "    case\n",
    "        when order_amount <= 100 then 'small'\n",
    "        when order_amount <= 500 then 'medium'\n",
    "        else 'large' end as amount_category,\n",
    "    count(customer_id) as customers\n",
    "FROM orders GROUP BY 1,2;"
   ]
  },
  {
   "cell_type": "markdown",
   "metadata": {},
   "source": [
    "#### Binning with `round()` (rounding)"
   ]
  },
  {
   "cell_type": "code",
   "execution_count": null,
   "metadata": {
    "vscode": {
     "languageId": "sql"
    }
   },
   "outputs": [],
   "source": [
    "SELECT round(sales,-1) as bin,\n",
    "    count(customer_id) as customers\n",
    "    FROM table GROUP BY 1;"
   ]
  },
  {
   "cell_type": "markdown",
   "metadata": {},
   "source": [
    "#### Binning with logarithms"
   ]
  },
  {
   "cell_type": "code",
   "execution_count": null,
   "metadata": {
    "vscode": {
     "languageId": "sql"
    }
   },
   "outputs": [],
   "source": [
    "SELECT log(sales) as bin,\n",
    "    count(customer_id) as customers\n",
    "    FROM table GROUP BY 1;"
   ]
  },
  {
   "cell_type": "markdown",
   "metadata": {},
   "source": [
    "### Type conversions and casting"
   ]
  },
  {
   "cell_type": "markdown",
   "metadata": {},
   "source": [
    "Converting an integer to a string can be useful in `CASE` statements when categorizing numeric values with some unbounded upper or lower value"
   ]
  },
  {
   "cell_type": "code",
   "execution_count": null,
   "metadata": {
    "vscode": {
     "languageId": "sql"
    }
   },
   "outputs": [],
   "source": [
    "case when order_items <= 3 then order_items::varchar\n",
    "\telse '4+'\n",
    "\tend"
   ]
  },
  {
   "cell_type": "markdown",
   "metadata": {},
   "source": [
    "Type conversions is also useful when **values should be integers are parsed out of a string**, then we want to aggregate or use mathematical functions on them"
   ]
  },
  {
   "cell_type": "code",
   "execution_count": null,
   "metadata": {
    "vscode": {
     "languageId": "sql"
    }
   },
   "outputs": [],
   "source": [
    "replace('$19.99','$','')::float\n",
    "\n",
    "cast(replace('$19.99','$','')) as float"
   ]
  },
  {
   "cell_type": "markdown",
   "metadata": {},
   "source": [
    "Imagine that transaction/event data often arrives in the db as a `TIMESTAMP`, but we want to summarize some value such as transactions by day → Casting the `TIMESTAMP` to a `DATE`"
   ]
  },
  {
   "cell_type": "code",
   "execution_count": null,
   "metadata": {
    "vscode": {
     "languageId": "sql"
    }
   },
   "outputs": [],
   "source": [
    "SELECT tx_timestamp::date, count(transactions) as num_transactions\n",
    "FROM ...\n",
    "GROUP BY 1\n",
    ";"
   ]
  },
  {
   "cell_type": "markdown",
   "metadata": {},
   "source": [
    "Assemble year, month, day into a date → use the concatenation operator `||` (double pipe) or concat function and then cast the result to a `DATE` .\n",
    "\n",
    "Another way to convert between string and dates is by using the date function"
   ]
  },
  {
   "cell_type": "code",
   "execution_count": null,
   "metadata": {
    "vscode": {
     "languageId": "sql"
    }
   },
   "outputs": [],
   "source": [
    "(year || '-' || month|| '-' || day)::date\n",
    "\n",
    "cast(concat(year, '-', month, '-', day) as date)\n",
    "\n",
    "date(concat(year, '-', month, '-', day))"
   ]
  }
 ],
 "metadata": {
  "kernelspec": {
   "display_name": "base",
   "language": "python",
   "name": "python3"
  },
  "language_info": {
   "codemirror_mode": {
    "name": "ipython",
    "version": 3
   },
   "file_extension": ".py",
   "mimetype": "text/x-python",
   "name": "python",
   "nbconvert_exporter": "python",
   "pygments_lexer": "ipython3",
   "version": "3.11.7"
  }
 },
 "nbformat": 4,
 "nbformat_minor": 2
}
