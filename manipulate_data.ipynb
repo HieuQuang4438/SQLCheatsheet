{
 "cells": [
  {
   "cell_type": "markdown",
   "metadata": {},
   "source": [
    "# 1. Data types"
   ]
  },
  {
   "cell_type": "markdown",
   "metadata": {},
   "source": [
    "# 1.1. Numeric types"
   ]
  },
  {
   "cell_type": "code",
   "execution_count": null,
   "metadata": {
    "vscode": {
     "languageId": "sql"
    }
   },
   "outputs": [],
   "source": [
    "INT, INTEGER\n",
    "-- Range from -2,147,483,648 to 2,147,483,647\n",
    "-- Unsigned range from 0 to 4,294,967,295\n",
    "\n",
    "BIGINT\n",
    "\n",
    "SMALLINT\n",
    "-- -32,768 -> 32,768"
   ]
  },
  {
   "cell_type": "code",
   "execution_count": null,
   "metadata": {
    "vscode": {
     "languageId": "sql"
    }
   },
   "outputs": [],
   "source": [
    "DECIMAL(precision, scale), NUMERIC(precision, scale)\n",
    "-- Exact numeric values with a specified precision and scale\n",
    "-- - Scale: the numbers of digit after the point\n",
    "-- - Precision: the total numbers of digit of the value\n",
    "\n",
    "FLOAT, REAL, DOUBLE PRECISION\n",
    "-- Approximate numeric values with optional precision\n",
    "-- larger range than decimal"
   ]
  },
  {
   "cell_type": "markdown",
   "metadata": {},
   "source": [
    "|Feature|FLOAT|DECIMAL|\n",
    "|-|-|-|\n",
    "|Storage|Approximate|Exact|\n",
    "|Range|Large|Limited|\n",
    "|Precision|Determined by significant digits|Determined by specified digits and decimal places|\n",
    "|Performance|Generally faster|May be slower|\n",
    "|Use cases|Scientific calculations, engineering data|Financial calculations, monetary values|"
   ]
  },
  {
   "cell_type": "markdown",
   "metadata": {},
   "source": [
    "## 1.2. String types"
   ]
  },
  {
   "cell_type": "code",
   "execution_count": null,
   "metadata": {
    "vscode": {
     "languageId": "sql"
    }
   },
   "outputs": [],
   "source": [
    "CHAR(n)\n",
    "-- Fixed-length character string with a specified length\n",
    "\n",
    "VARCHAR(n)\n",
    "-- Variable-length character string with a maximum length of n\n",
    "\n",
    "TEXT\n",
    "-- Variable-length character string with no specified maximum length"
   ]
  },
  {
   "cell_type": "markdown",
   "metadata": {},
   "source": [
    "## 1.3. Date and Time types"
   ]
  },
  {
   "cell_type": "code",
   "execution_count": null,
   "metadata": {
    "vscode": {
     "languageId": "sql"
    }
   },
   "outputs": [],
   "source": [
    "DATE\n",
    "-- Date values in YYYY-MM-DD format"
   ]
  },
  {
   "cell_type": "code",
   "execution_count": null,
   "metadata": {
    "vscode": {
     "languageId": "sql"
    }
   },
   "outputs": [],
   "source": [
    "select '3/30/2023'::date + 1\n",
    "    ,'2023-03-30'::date + 1 \n",
    "    ,'2023-3-30'::date + 1"
   ]
  },
  {
   "cell_type": "code",
   "execution_count": null,
   "metadata": {
    "vscode": {
     "languageId": "sql"
    }
   },
   "outputs": [],
   "source": [
    "TIME\n",
    "-- Time values in HH:MM:SS format\n",
    "\n",
    "TIMESTAMP\n",
    "-- Date and time values in YYYY-MM-DD HH:MM:SS format\n",
    "\n",
    "INTERVAL\n",
    "-- A period of time"
   ]
  },
  {
   "cell_type": "markdown",
   "metadata": {},
   "source": [
    "## 1.4. Other types"
   ]
  },
  {
   "cell_type": "code",
   "execution_count": null,
   "metadata": {
    "vscode": {
     "languageId": "sql"
    }
   },
   "outputs": [],
   "source": [
    "BOOLEAN\n",
    "-- Represents true or false values"
   ]
  },
  {
   "cell_type": "code",
   "execution_count": null,
   "metadata": {
    "vscode": {
     "languageId": "sql"
    }
   },
   "outputs": [],
   "source": [
    "-- Binary types\n",
    "BINARY(n)\n",
    "-- Fixed-length binary string with a specified length\n",
    "\n",
    "VARBINARY(n)\n",
    "-- Variable-length binary string with a maximum length of n\n",
    "\n",
    "BLOB, BYTEA\n",
    "-- Binary large objects for storing binary data"
   ]
  },
  {
   "cell_type": "code",
   "execution_count": null,
   "metadata": {
    "vscode": {
     "languageId": "sql"
    }
   },
   "outputs": [],
   "source": [
    "ARRAY\n",
    "-- An ordered collection of elements of the same data type\n",
    "\n",
    "JSON, JSONB\n",
    "-- JSON data type for storing JSON documents\n",
    "\n",
    "XML\n",
    "-- XML data type for storing XML documents"
   ]
  },
  {
   "cell_type": "markdown",
   "metadata": {},
   "source": [
    "# 2. Manipulation"
   ]
  },
  {
   "cell_type": "markdown",
   "metadata": {},
   "source": [
    "## 2.1. Type manipulation"
   ]
  },
  {
   "cell_type": "markdown",
   "metadata": {},
   "source": [
    "### 2.1.1. Null"
   ]
  },
  {
   "cell_type": "markdown",
   "metadata": {},
   "source": [
    "#### `coalesce` function"
   ]
  },
  {
   "cell_type": "markdown",
   "metadata": {},
   "source": [
    "It takes two or more arguments and returns the first one that is not null"
   ]
  },
  {
   "cell_type": "code",
   "execution_count": null,
   "metadata": {
    "vscode": {
     "languageId": "sql"
    }
   },
   "outputs": [],
   "source": [
    "coalesce(num_orders,0)\n",
    "coalesce(address,'Unknown')\n",
    "coalesce(column_a,column_b)\n",
    "coalesce(column_a,column_b,column_c)"
   ]
  },
  {
   "cell_type": "markdown",
   "metadata": {},
   "source": [
    "#### `nullif` function"
   ]
  },
  {
   "cell_type": "markdown",
   "metadata": {},
   "source": [
    "The nullif function compares two numbers, and if they are not equal, it returns the first number; if they are equal, the function returns null"
   ]
  },
  {
   "cell_type": "code",
   "execution_count": null,
   "metadata": {
    "vscode": {
     "languageId": "sql"
    }
   },
   "outputs": [],
   "source": [
    "nullif(6,7) → 6\n",
    "nullif(6,6) → null "
   ]
  },
  {
   "cell_type": "markdown",
   "metadata": {},
   "source": [
    "### 2.1.2. Conversions and casting"
   ]
  },
  {
   "cell_type": "markdown",
   "metadata": {},
   "source": [
    "#### `cast()` or `::`"
   ]
  },
  {
   "cell_type": "code",
   "execution_count": null,
   "metadata": {
    "vscode": {
     "languageId": "sql"
    }
   },
   "outputs": [],
   "source": [
    "cast (1234 as varchar) \n",
    "1234::varchar"
   ]
  },
  {
   "cell_type": "markdown",
   "metadata": {},
   "source": [
    "#### `to_datatype` functions"
   ]
  },
  {
   "cell_type": "markdown",
   "metadata": {},
   "source": [
    "The to_datatype function can take both a value or a format string\n",
    "\n",
    "|function|purpose|\n",
    "|-|-|\n",
    "|to_char|converts other types to string|\n",
    "|to_number|to numeric|\n",
    "|to_date|converts other types to date, with specified date parts|\n",
    "|to_timestamp|to date, with specified date and time parts|\n",
    "\n",
    "Sometimes the database automatically converts a data type. This is called **type coercion**"
   ]
  },
  {
   "cell_type": "code",
   "execution_count": null,
   "metadata": {
    "vscode": {
     "languageId": "sql"
    }
   },
   "outputs": [],
   "source": [
    "to_date(date_column, 'DD/MM/YYYY')\n",
    "-- YYYY: Year with four digits\n",
    "-- MM: Month with two digits\n",
    "-- DD: Day of the month with two digits\n",
    "-- HH: Hour (24-hour format) with two digits\n",
    "-- MI: Minute with two digits\n",
    "-- SS: Second with two digits\n",
    "-- AM/PM: AM or PM indicator"
   ]
  },
  {
   "cell_type": "markdown",
   "metadata": {},
   "source": [
    "## 2.2. Date and time manipulation"
   ]
  },
  {
   "cell_type": "markdown",
   "metadata": {},
   "source": [
    "#### Return current date/time"
   ]
  },
  {
   "cell_type": "code",
   "execution_count": null,
   "metadata": {
    "vscode": {
     "languageId": "sql"
    }
   },
   "outputs": [],
   "source": [
    "select current_date -- only date\n",
    "    ,current_time -- only time\n",
    "    ,current_timestamp -- date & time\n",
    "    ,now() -- date & time"
   ]
  },
  {
   "cell_type": "markdown",
   "metadata": {},
   "source": [
    "#### `date_trunc`"
   ]
  },
  {
   "cell_type": "markdown",
   "metadata": {},
   "source": [
    "reduce details of timestamp"
   ]
  },
  {
   "cell_type": "code",
   "execution_count": null,
   "metadata": {
    "vscode": {
     "languageId": "sql"
    }
   },
   "outputs": [],
   "source": [
    "select date_trunc('month','2020-10-04 12:33:35'::timestamp)\n",
    "-- return value in timestamp type"
   ]
  },
  {
   "cell_type": "markdown",
   "metadata": {},
   "source": [
    "#### `to_char`"
   ]
  },
  {
   "cell_type": "code",
   "execution_count": null,
   "metadata": {
    "vscode": {
     "languageId": "sql"
    }
   },
   "outputs": [],
   "source": [
    "select \n",
    "    to_char(current_date, 'YYYY-MM-DD')\n",
    "    ,to_char(current_timestamp, 'YYYY-MM-DD HH24:MI:SS')\n",
    "    ,to_char(current_date,'month') as MonthName\n",
    "    ,to_char(current_date, 'YYYY-MM') as YearMonth\n",
    "\t-- return value as string"
   ]
  },
  {
   "cell_type": "markdown",
   "metadata": {},
   "source": [
    "#### `date_part`, `extract`"
   ]
  },
  {
   "cell_type": "code",
   "execution_count": null,
   "metadata": {
    "vscode": {
     "languageId": "sql"
    }
   },
   "outputs": [],
   "source": [
    "select\n",
    "    date_part('month', current_timestamp)\n",
    "    ,extract('day' from current_timestamp)\n",
    "    ,extract(month from current_timestamp) -- month or 'month' is ok\n",
    "    ,extract('month' from current_timestamp)\n",
    "    -- return value as numeric"
   ]
  },
  {
   "cell_type": "markdown",
   "metadata": {},
   "source": [
    "### Date/time math"
   ]
  },
  {
   "cell_type": "code",
   "execution_count": null,
   "metadata": {
    "vscode": {
     "languageId": "sql"
    }
   },
   "outputs": [],
   "source": [
    "select DATEDIFF('day', '2023-01-01', '2023-12-31')"
   ]
  },
  {
   "cell_type": "code",
   "execution_count": null,
   "metadata": {
    "vscode": {
     "languageId": "sql"
    }
   },
   "outputs": [],
   "source": [
    "-- return the number of days elasped between two dates\n",
    "SELECT date('2020-06-30') - date('2020-05-31') as days -- The number of days is inclusive of only one of the endpoints\n",
    "    ,date('2020-05-31') - date('2020-06-30') as days"
   ]
  },
  {
   "cell_type": "code",
   "execution_count": null,
   "metadata": {
    "vscode": {
     "languageId": "sql"
    }
   },
   "outputs": [],
   "source": [
    "-- add interval to date\n",
    "SELECT date('2020-06-01') + interval '7 days' as new_date -- highly recommended\n",
    "    ,date('2020-06-01') + 7 as new_date\n",
    "    ,date('2020-06-01') - 7 as new_date\n",
    "    ,date('2020-06-01') + interval '2 month' as new_date\n",
    "    ,date('2020-06-01') + interval '2 hour'"
   ]
  },
  {
   "cell_type": "code",
   "execution_count": null,
   "metadata": {
    "vscode": {
     "languageId": "sql"
    }
   },
   "outputs": [],
   "source": [
    "-- add/subtract interval to time, time to time\n",
    "SELECT time '05:00' + interval '3 hours' as new_time\n",
    "    ,time '05:00' - interval '3 hours' as new_time\n",
    "    ,time '05:00' - time '03:00' as time_diff -- return { \"hour\": 2 }"
   ]
  },
  {
   "cell_type": "markdown",
   "metadata": {},
   "source": [
    "## 2.3. Numeric manipulations"
   ]
  },
  {
   "cell_type": "markdown",
   "metadata": {},
   "source": [
    "#### `round` function"
   ]
  },
  {
   "cell_type": "code",
   "execution_count": null,
   "metadata": {
    "vscode": {
     "languageId": "sql"
    }
   },
   "outputs": [],
   "source": [
    "SELECT ROUND(1234.56789, 3);"
   ]
  },
  {
   "cell_type": "markdown",
   "metadata": {},
   "source": [
    "## 2.4. Text manipulations"
   ]
  },
  {
   "cell_type": "markdown",
   "metadata": {},
   "source": [
    "#### `replace` function"
   ]
  },
  {
   "cell_type": "code",
   "execution_count": null,
   "metadata": {
    "vscode": {
     "languageId": "sql"
    }
   },
   "outputs": [],
   "source": [
    "select REPLACE('i have 10 apples','0','')"
   ]
  },
  {
   "cell_type": "markdown",
   "metadata": {},
   "source": [
    "#### `split_part` function"
   ]
  },
  {
   "cell_type": "markdown",
   "metadata": {},
   "source": [
    "Split text with delimiter"
   ]
  },
  {
   "cell_type": "code",
   "execution_count": null,
   "metadata": {
    "vscode": {
     "languageId": "sql"
    }
   },
   "outputs": [],
   "source": [
    "SELECT split_part('This is an example of an example string'\n",
    "        ,'an example'\n",
    "        ,1)\n",
    "    -- output: This is\n",
    "    ,split_part('This is an example of an example string'\n",
    "        ,'an example'\n",
    "        ,2); \n",
    "    -- output: of\n",
    "\n",
    "-- Note that spaces in the text will be retained \n",
    "-- unless specified as part of the delimiter."
   ]
  },
  {
   "cell_type": "markdown",
   "metadata": {},
   "source": [
    "### `concat()` function"
   ]
  },
  {
   "cell_type": "code",
   "execution_count": null,
   "metadata": {
    "vscode": {
     "languageId": "sql"
    }
   },
   "outputs": [],
   "source": [
    "select 'a' || 'b' || 1\n",
    "    ,concat('a', 'b', 1)"
   ]
  },
  {
   "cell_type": "markdown",
   "metadata": {},
   "source": [
    "### `length()` function"
   ]
  },
  {
   "cell_type": "code",
   "execution_count": null,
   "metadata": {
    "vscode": {
     "languageId": "sql"
    }
   },
   "outputs": [],
   "source": [
    "select length('abc')"
   ]
  },
  {
   "cell_type": "markdown",
   "metadata": {},
   "source": [
    "### `upper()`, `lower()`, `initcap()` function"
   ]
  },
  {
   "cell_type": "code",
   "execution_count": null,
   "metadata": {
    "vscode": {
     "languageId": "sql"
    }
   },
   "outputs": [],
   "source": [
    "select upper('abc') \n",
    "    ,lower('ABC')\n",
    "    ,initcap('abC ABC')"
   ]
  },
  {
   "cell_type": "markdown",
   "metadata": {},
   "source": [
    "### Wildcards"
   ]
  },
  {
   "cell_type": "code",
   "execution_count": null,
   "metadata": {
    "vscode": {
     "languageId": "sql"
    }
   },
   "outputs": [],
   "source": [
    "like -- case-sensitive\n",
    "ilike -- case-insensitive"
   ]
  },
  {
   "cell_type": "code",
   "execution_count": null,
   "metadata": {
    "vscode": {
     "languageId": "sql"
    }
   },
   "outputs": [],
   "source": [
    "-- find any client's who are an LLC\n",
    "select *\n",
    "from client\n",
    "where client_name LIKE '%LLC'; -- % = any number of characters, _ = 1 character\n",
    "\n",
    "select *\n",
    "from branch_supplier\n",
    "where supplier_name LIKE '%Label%';\n",
    "\n",
    "-- find any employee born in Oct\n",
    "select * from employee\n",
    "where birth_day like '____-10%';\n",
    "\n",
    "-- find any clients who are schools\n",
    "select *\n",
    "from client\n",
    "where client_name like '%School%';\n",
    "\n",
    "-- tell SQL to treat wildcard characters as literal characters\n",
    "select 'abc a%b abc' like '%\\%%';\n",
    "select 'abc a__b abc' like '%\\_\\_%';"
   ]
  },
  {
   "cell_type": "markdown",
   "metadata": {},
   "source": [
    "### Regex"
   ]
  },
  {
   "cell_type": "code",
   "execution_count": null,
   "metadata": {
    "vscode": {
     "languageId": "sql"
    }
   },
   "outputs": [],
   "source": [
    "-- (1) tilde ~\n",
    "        SELECT 'The data is about UFOs' ~ 'data' as comparison; -- \"data\" is a regex\n",
    "\n",
    "        -- The ~ comparator is case sensitive. To make it case insensitive, similar to ILIKE, \n",
    "        -- use ~* (the tilde followed by an asterisk):\n",
    "        SELECT 'The data is about UFOs' ~* 'DATA' as comparison;\n",
    "\n",
    "        -- To negate the comparator, place an ! (exclamation point) before the tilde or tilde-\n",
    "        -- asterisk combination:\n",
    "        SELECT 'The data is about UFOs' !~ 'alligators' as comparison;"
   ]
  },
  {
   "cell_type": "code",
   "execution_count": null,
   "metadata": {
    "vscode": {
     "languageId": "sql"
    }
   },
   "outputs": [],
   "source": [
    "-- (2) period . -> match any single character\n",
    "    SELECT\n",
    "    'The data is about UFOs' ~ '. data' as comparison_1\n",
    "    ,'The data is about UFOs' ~ '.The' as comparison_2"
   ]
  },
  {
   "cell_type": "code",
   "execution_count": null,
   "metadata": {
    "vscode": {
     "languageId": "sql"
    }
   },
   "outputs": [],
   "source": [
    "-- (3) asterisk *\n",
    "    -- To match multiple characters, use the * (asterisk) symbol. This will match zero or\n",
    "    -- more characters,\n",
    "    SELECT 'The data is about UFOs' ~ 'data *' as comparison_1\n",
    "        ,'The data is about UFOs' ~ 'data %' as comparison_2"
   ]
  },
  {
   "cell_type": "code",
   "execution_count": null,
   "metadata": {
    "vscode": {
     "languageId": "sql"
    }
   },
   "outputs": [],
   "source": [
    "-- (4) brackets []\n",
    "    -- [ and ] (left and right brackets). These are\n",
    "    -- used to enclose a set of characters, any one of which must match.\n",
    "    SELECT 'The data is about UFOs' ~ '[Tt]he' as comparison_1\n",
    "        ,'the data is about UFOs' ~ '[Tt]he' as comparison_2\n",
    "        ,'tHe data is about UFOs' ~ '[Tt]he' as comparison_3\n",
    "        ,'THE data is about UFOs' ~ '[Tt]he' as comparison_4\n",
    "    \n",
    "    -- (my explaination) it matches any variations with any one of characters in the brackets\n",
    "        select '1he data is about UFOs' ~ '[tT1]he';\n",
    "        \n",
    "    --match a pattern that includes a number,\n",
    "        SELECT 'sighting lasted 8 minutes' ~ '[0123456789] minutes' as comparison;\n",
    "\n",
    "    -- can enter a range of characters with dash separator (-)\n",
    "        SELECT 'sighting lasted 8 minutes' ~ '[0-9] minutes' as comparison;\n",
    "        \n",
    "    -- [0-9] Match any number\n",
    "    -- [a-z] Match any lowercase letter\n",
    "    -- [A-Z] Match any uppercase letter\n",
    "    -- [A-Za-z0-9] Match any lower- or uppercase letter, or any number\n",
    "    -- [A-z] Match any ASCII character; generally not used because it matches everything, including symbols\n",
    "\n",
    "    -- If the desired pattern match contains more than one instance of a particular value or\n",
    "    -- type of value, one option is to include as many ranges as needed, one after the other.\n",
    "    -- For example, we can match a three-digit number by repeating the number range\n",
    "    -- notation three times:\n",
    "        SELECT 'driving on 495 south' ~ 'on [0-9][0-9][0-9]' as comparison;\n",
    "\n",
    "    -- repeating a pattern\n",
    "    -- multiple times. This can be useful when you don't know exactly how many times the\n",
    "    -- pattern will repeat, but be careful to check the results to make sure you don't acciden‐\n",
    "    -- tally return more matches than intended.\n",
    "        SELECT\n",
    "            'driving on 495 south' ~ 'on [0-9]+' as comparison_1\n",
    "            ,'driving on 1 south' ~ 'on [0-9]+' as comparison_2\n",
    "            ,'driving on 38east' ~ 'on [0-9]+' as comparison_3\n",
    "            ,'driving on route one' ~ 'on [0-9]+' as comparison_4\n",
    "            ;\n",
    "        \n",
    "        -- + Match the character set one or more times\n",
    "        -- * Match the character set zero or more times\n",
    "        -- ? Match the character set zero or one time\n",
    "        -- { } Match the character set the number of times specied between the curly braces; for example, {3} matches exactly three times\n",
    "        -- { , } Match the character set any number of times in a range specied by the comma-separated numbers between the curly braces; for example, {3,5} matches between three and ve times"
   ]
  },
  {
   "cell_type": "code",
   "execution_count": null,
   "metadata": {
    "vscode": {
     "languageId": "sql"
    }
   },
   "outputs": [],
   "source": [
    "-- (5) caret ^ -> find items that do not match a pattern\n",
    "    SELECT\n",
    "        'driving on 495 south' ~ 'on [0-9]+' as comparison_1\n",
    "        ,'driving on 495 south' ~ 'on ^[0-9]+' as comparison_2\n",
    "        ,'driving on 495 south' ~ '^on [0-9]+' as comparison_3"
   ]
  },
  {
   "cell_type": "code",
   "execution_count": null,
   "metadata": {
    "vscode": {
     "languageId": "sql"
    }
   },
   "outputs": [],
   "source": [
    "-- (6) backslash \\ -> tell the database that a specific character is not special\n",
    "    SELECT\n",
    "        '\"Is there a report?\" she asked' ~ '\\?' as comparison_1\n",
    "        ,'it was filed under ^51.' ~ '^[0-9]+' as comparison_2\n",
    "        ,'it was filed under ^51.' ~ '\\^[0-9]+' as comparison_3"
   ]
  },
  {
   "cell_type": "code",
   "execution_count": null,
   "metadata": {
    "vscode": {
     "languageId": "sql"
    }
   },
   "outputs": [],
   "source": [
    "-- (7) match space in regex\n",
    "    -- \\t -> tab\n",
    "    -- \\r -> a carriage return -> as enter\n",
    "    -- \\n -> a line feed -> like shift + enter\n",
    "    -- \\s -> any whitespace character\n",
    "    SELECT\n",
    "        'spinning\n",
    "        flashing\n",
    "        and whirling' ~ '\\n' as comparison_1\n",
    "        ,'spinning\n",
    "        flashing\n",
    "        and whirling' ~ '\\s' as comparison_2\n",
    "        ,'spinning flashing' ~ '\\s' as comparison_3\n",
    "        ,'spinning' ~ '\\s' as comparison_4"
   ]
  },
  {
   "cell_type": "code",
   "execution_count": null,
   "metadata": {
    "vscode": {
     "languageId": "sql"
    }
   },
   "outputs": [],
   "source": [
    "-- (8) parentheses ()\n",
    "    SELECT\n",
    "        'valid codes have the form 12a34b56c' ~ '([0-9]{2}[a-z]){3}' as comparison_1\n",
    "        ,'the first code entered was 123a456c' ~ '([0-9]{2}[a-z]){3}' as comparison_2\n",
    "        ,'the second code entered was 99x66y33z' ~ '([0-9]{2}[a-z]){3}' as comparison_3"
   ]
  },
  {
   "cell_type": "code",
   "execution_count": null,
   "metadata": {
    "vscode": {
     "languageId": "sql"
    }
   },
   "outputs": [],
   "source": [
    "-- (9) \\y -> match a pattern from the beginning to the end of a word\n",
    "    SELECT\n",
    "        'I was in my car going south toward my home' ~ '\\ycar\\y' as comparison_1\n",
    "        ,'UFO scares cows and starts stampede breaking' ~ '\\ycar\\y' as comparison_2\n",
    "        ,'I''m a carpenter and married father of 2.5 kids' ~ '\\ycar\\y' as comparison_3\n",
    "        ,'It looked like a brown boxcar way up into the sky' ~ '\\ycar\\y' as comparison_4\n",
    "        ;\n",
    "    \n",
    "    -- Of course, in this simple example, we could have simply added spaces before and\n",
    "    -- after the word \"car\" with the same result. The benefit of the pattern is that it will also\n",
    "    -- pick up cases in which the pattern is at the beginning of a string and thus does not\n",
    "    -- have a leading space:\n",
    "    -- The pattern '\\ycar\\y' makes a case-insensitive match when \"Car\" is the first word, but the pattern ' car ' does not.\n",
    "    SELECT 'Car lights in the sky passing over the highway' ~* '\\ycar\\y' as comparison_1\n",
    "        ,'Car lights in the sky passing over the highway' ~* ' car ' as comparison_2\n",
    "        ;"
   ]
  },
  {
   "cell_type": "code",
   "execution_count": null,
   "metadata": {
    "vscode": {
     "languageId": "sql"
    }
   },
   "outputs": [],
   "source": [
    "-- (10) \\A and \\Z -> To match the beginning of an entire string, use the \\A special character, and to match the end of a string, use \\Z:\n",
    "    SELECT\n",
    "        'Car lights in the sky passing over the highway' ~* '\\Acar\\y' as comparison_1\n",
    "        ,'I was in my car going south toward my home' ~* '\\Acar\\y' as comparison_2\n",
    "        ,'An object is sighted hovering in place over my car' ~* '\\ycar\\Z' as comparison_3\n",
    "        ,'I was in my car going south toward my home' ~* '\\ycar\\Z' as comparison_4\n",
    "\n",
    "    -- (note) an alternative to the ~ operator\n",
    "        SELECT regexp_like('The data is about UFOs','data') as comparison;"
   ]
  },
  {
   "cell_type": "code",
   "execution_count": null,
   "metadata": {
    "vscode": {
     "languageId": "sql"
    }
   },
   "outputs": [],
   "source": [
    "-- (11) finding and replacing with regex\n",
    "    --\n",
    "    SELECT left(description,50)\n",
    "        FROM ufo\n",
    "        WHERE left(description,50) ~ '[0-9]+ light[s ,.]' limit 100\n",
    "        ;\n",
    "    \n",
    "    -- split out only the needed texts -> use regex functions\n",
    "    SELECT (regexp_matches(description,'[0-9]+ light[s ,.]'))[1]\n",
    "        ,count(*)\n",
    "        FROM ufo\n",
    "        WHERE description ~ '[0-9]+ light[s ,.]'\n",
    "        GROUP BY 1\n",
    "        ORDER BY 2 desc\n",
    "        ;\n",
    "                    \n",
    "    select (regexp_matches('i have 3 lights, 5 lights, 9 lights and 18 lights','[0-9]+ light[s ,.]'))[1]\n",
    "        ;\n",
    "\n",
    "    -- split out the numbers to find min, max\n",
    "    SELECT min(split_part(matched_text,' ',1)::int) as min_lights\n",
    "        ,max(split_part(matched_text,' ',1)::int) as max_lights\n",
    "        FROM\n",
    "        (\n",
    "            SELECT (regexp_matches(description,'[0-9]+ light[s ,.]'))[1] as matched_text\n",
    "            ,count(*)\n",
    "            FROM ufo\n",
    "            WHERE description ~ '[0-9]+ light[s ,.]'\n",
    "            GROUP BY 1\n",
    "        ) a\n",
    "        ;\n",
    "    \n",
    "    -- replace variations of 'minutes'\n",
    "    SELECT duration\n",
    "        ,(regexp_matches(duration,'\\m[Mm][Ii][Nn][A-Za-z]*\\y'))[1] as matched_minutes\n",
    "        FROM\n",
    "        (\n",
    "            SELECT split_part(sighting_report,'Duration:',2) as duration\n",
    "            ,count(*) as reports\n",
    "            FROM ufo\n",
    "            GROUP BY 1\n",
    "        ) a\n",
    "        ;\n",
    "        -- \\m -> the pattern starts at the beginning of a word\n",
    "        -- differences between \\y and \\m\n",
    "            -- \\m chỉ khớp ở đầu của một từ\n",
    "            -- \\y khớp từ đầu tới cuối 1 từ\n",
    "    \n",
    "    SELECT duration\n",
    "        ,(regexp_matches(duration,'\\m[Mm][Ii][Nn][A-Za-z]*\\y'))[1] as matched_minutes\n",
    "        ,regexp_replace(duration,'\\m[Mm][Ii][Nn][A-Za-z]*\\y','min') as replaced_text\n",
    "        FROM\n",
    "        (\n",
    "            SELECT split_part(sighting_report,'Duration:',2) as duration\n",
    "            ,count(*) as reports\n",
    "            FROM ufo\n",
    "            GROUP BY 1\n",
    "        ) a\n",
    "        ;\n",
    "    \n",
    "    -- standardize both 'minutes' and 'hours'\n",
    "    SELECT duration\n",
    "        ,(regexp_matches(duration,'\\m[Hh][Oo][Uu][Rr][A-Za-z]*\\y'))[1] as matched_hour\n",
    "        ,(regexp_matches(duration,'\\m[Mm][Ii][Nn][A-Za-z]*\\y'))[1] as matched_minutes\n",
    "        ,regexp_replace(\n",
    "            regexp_replace(duration,'\\m[Mm][Ii][Nn][A-Za-z]*\\y','min')\n",
    "            ,'\\m[Hh][Oo][Uu][Rr][A-Za-z]*\\y','hr') as replaced_text\n",
    "        FROM\n",
    "        (\n",
    "            SELECT split_part(sighting_report,'Duration:',2) as duration\n",
    "            ,count(*) as reports\n",
    "            FROM ufo\n",
    "            GROUP BY 1\n",
    "        ) a\n",
    "        ;"
   ]
  }
 ],
 "metadata": {
  "kernelspec": {
   "display_name": "base",
   "language": "python",
   "name": "python3"
  },
  "language_info": {
   "codemirror_mode": {
    "name": "ipython",
    "version": 3
   },
   "file_extension": ".py",
   "mimetype": "text/x-python",
   "name": "python",
   "nbconvert_exporter": "python",
   "pygments_lexer": "ipython3",
   "version": "3.11.7"
  }
 },
 "nbformat": 4,
 "nbformat_minor": 2
}
