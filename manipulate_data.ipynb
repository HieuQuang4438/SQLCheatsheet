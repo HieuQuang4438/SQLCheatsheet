{
 "cells": [
  {
   "cell_type": "markdown",
   "metadata": {},
   "source": [
    "# 1. Data types"
   ]
  },
  {
   "cell_type": "markdown",
   "metadata": {},
   "source": [
    "# 1.1. Numeric types"
   ]
  },
  {
   "cell_type": "code",
   "execution_count": null,
   "metadata": {
    "vscode": {
     "languageId": "sql"
    }
   },
   "outputs": [],
   "source": [
    "INT, INTEGER\n",
    "-- Range from -2,147,483,648 to 2,147,483,647\n",
    "-- Unsigned range from 0 to 4,294,967,295\n",
    "\n",
    "BIGINT\n",
    "\n",
    "SMALLINT\n",
    "-- -32,768 -> 32,768"
   ]
  },
  {
   "cell_type": "code",
   "execution_count": null,
   "metadata": {
    "vscode": {
     "languageId": "sql"
    }
   },
   "outputs": [],
   "source": [
    "DECIMAL(precision, scale), NUMERIC(precision, scale)\n",
    "-- Exact numeric values with a specified precision and scale\n",
    "-- - Scale: the numbers of digit after the point\n",
    "-- - Precision: the total numbers of digit of the value\n",
    "\n",
    "FLOAT, REAL, DOUBLE PRECISION\n",
    "-- Approximate numeric values with optional precision\n",
    "-- larger range than decimal"
   ]
  },
  {
   "cell_type": "markdown",
   "metadata": {},
   "source": [
    "|Feature|FLOAT|DECIMAL|\n",
    "|-|-|-|\n",
    "|Storage|Approximate|Exact|\n",
    "|Range|Large|Limited|\n",
    "|Precision|Determined by significant digits|Determined by specified digits and decimal places|\n",
    "|Performance|Generally faster|May be slower|\n",
    "|Use cases|Scientific calculations, engineering data|Financial calculations, monetary values|"
   ]
  },
  {
   "cell_type": "markdown",
   "metadata": {},
   "source": [
    "## 1.2. String types"
   ]
  },
  {
   "cell_type": "code",
   "execution_count": null,
   "metadata": {
    "vscode": {
     "languageId": "sql"
    }
   },
   "outputs": [],
   "source": [
    "CHAR(n)\n",
    "-- Fixed-length character string with a specified length\n",
    "\n",
    "VARCHAR(n)\n",
    "-- Variable-length character string with a maximum length of n\n",
    "\n",
    "TEXT\n",
    "-- Variable-length character string with no specified maximum length"
   ]
  },
  {
   "cell_type": "markdown",
   "metadata": {},
   "source": [
    "## 1.3. Date and Time types"
   ]
  },
  {
   "cell_type": "code",
   "execution_count": null,
   "metadata": {
    "vscode": {
     "languageId": "sql"
    }
   },
   "outputs": [],
   "source": [
    "DATE\n",
    "-- Date values in YYYY-MM-DD format"
   ]
  },
  {
   "cell_type": "code",
   "execution_count": null,
   "metadata": {
    "vscode": {
     "languageId": "sql"
    }
   },
   "outputs": [],
   "source": [
    "select '3/30/2023'::date + 1\n",
    "    ,'2023-03-30'::date + 1 \n",
    "    ,'2023-3-30'::date + 1"
   ]
  },
  {
   "cell_type": "code",
   "execution_count": null,
   "metadata": {
    "vscode": {
     "languageId": "sql"
    }
   },
   "outputs": [],
   "source": [
    "TIME\n",
    "-- Time values in HH:MM:SS format\n",
    "\n",
    "TIMESTAMP\n",
    "-- Date and time values in YYYY-MM-DD HH:MM:SS format\n",
    "\n",
    "INTERVAL\n",
    "-- A period of time"
   ]
  },
  {
   "cell_type": "markdown",
   "metadata": {},
   "source": [
    "## 1.4. Other types"
   ]
  },
  {
   "cell_type": "code",
   "execution_count": null,
   "metadata": {
    "vscode": {
     "languageId": "sql"
    }
   },
   "outputs": [],
   "source": [
    "BOOLEAN\n",
    "-- Represents true or false values"
   ]
  },
  {
   "cell_type": "code",
   "execution_count": null,
   "metadata": {
    "vscode": {
     "languageId": "sql"
    }
   },
   "outputs": [],
   "source": [
    "-- Binary types\n",
    "BINARY(n)\n",
    "-- Fixed-length binary string with a specified length\n",
    "\n",
    "VARBINARY(n)\n",
    "-- Variable-length binary string with a maximum length of n\n",
    "\n",
    "BLOB, BYTEA\n",
    "-- Binary large objects for storing binary data"
   ]
  },
  {
   "cell_type": "code",
   "execution_count": null,
   "metadata": {
    "vscode": {
     "languageId": "sql"
    }
   },
   "outputs": [],
   "source": [
    "ARRAY\n",
    "-- An ordered collection of elements of the same data type\n",
    "\n",
    "JSON, JSONB\n",
    "-- JSON data type for storing JSON documents\n",
    "\n",
    "XML\n",
    "-- XML data type for storing XML documents"
   ]
  },
  {
   "cell_type": "markdown",
   "metadata": {},
   "source": [
    "# 2. Manipulation"
   ]
  },
  {
   "cell_type": "markdown",
   "metadata": {},
   "source": [
    "## 2.1. Type manipulation"
   ]
  },
  {
   "cell_type": "markdown",
   "metadata": {},
   "source": [
    "### 2.1.1. Null"
   ]
  },
  {
   "cell_type": "markdown",
   "metadata": {},
   "source": [
    "#### `coalesce` function"
   ]
  },
  {
   "cell_type": "markdown",
   "metadata": {},
   "source": [
    "It takes two or more arguments and returns the first one that is not null"
   ]
  },
  {
   "cell_type": "code",
   "execution_count": null,
   "metadata": {
    "vscode": {
     "languageId": "sql"
    }
   },
   "outputs": [],
   "source": [
    "coalesce(num_orders,0)\n",
    "coalesce(address,'Unknown')\n",
    "coalesce(column_a,column_b)\n",
    "coalesce(column_a,column_b,column_c)"
   ]
  },
  {
   "cell_type": "markdown",
   "metadata": {},
   "source": [
    "#### `nullif` function"
   ]
  },
  {
   "cell_type": "markdown",
   "metadata": {},
   "source": [
    "The nullif function compares two numbers, and if they are not equal, it returns the first number; if they are equal, the function returns null"
   ]
  },
  {
   "cell_type": "code",
   "execution_count": null,
   "metadata": {
    "vscode": {
     "languageId": "sql"
    }
   },
   "outputs": [],
   "source": [
    "nullif(6,7) → 6\n",
    "nullif(6,6) → null "
   ]
  },
  {
   "cell_type": "markdown",
   "metadata": {},
   "source": [
    "### 2.1.2. Conversions and casting"
   ]
  },
  {
   "cell_type": "markdown",
   "metadata": {},
   "source": [
    "#### `cast()` or `::`"
   ]
  },
  {
   "cell_type": "code",
   "execution_count": null,
   "metadata": {
    "vscode": {
     "languageId": "sql"
    }
   },
   "outputs": [],
   "source": [
    "cast (1234 as varchar) \n",
    "1234::varchar"
   ]
  },
  {
   "cell_type": "markdown",
   "metadata": {},
   "source": [
    "#### `to_datatype` functions"
   ]
  },
  {
   "cell_type": "markdown",
   "metadata": {},
   "source": [
    "The to_datatype function can take both a value or a format string\n",
    "\n",
    "|function|purpose|\n",
    "|-|-|\n",
    "|to_char|converts other types to string|\n",
    "|to_number|to numeric|\n",
    "|to_date|converts other types to date, with specified date parts|\n",
    "|to_timestamp|to date, with specified date and time parts|\n",
    "\n",
    "Sometimes the database automatically converts a data type. This is called **type coercion**"
   ]
  },
  {
   "cell_type": "code",
   "execution_count": null,
   "metadata": {
    "vscode": {
     "languageId": "sql"
    }
   },
   "outputs": [],
   "source": [
    "to_date(date_column, 'DD/MM/YYYY')\n",
    "-- YYYY: Year with four digits\n",
    "-- MM: Month with two digits\n",
    "-- DD: Day of the month with two digits\n",
    "-- HH: Hour (24-hour format) with two digits\n",
    "-- MI: Minute with two digits\n",
    "-- SS: Second with two digits\n",
    "-- AM/PM: AM or PM indicator"
   ]
  },
  {
   "cell_type": "markdown",
   "metadata": {},
   "source": [
    "## 2.2. Date and time manipulation"
   ]
  },
  {
   "cell_type": "markdown",
   "metadata": {},
   "source": [
    "#### Return current date/time"
   ]
  },
  {
   "cell_type": "code",
   "execution_count": null,
   "metadata": {
    "vscode": {
     "languageId": "sql"
    }
   },
   "outputs": [],
   "source": [
    "select current_date -- only date\n",
    "    ,current_time -- only time\n",
    "    ,current_timestamp -- date & time\n",
    "    ,now() -- date & time"
   ]
  },
  {
   "cell_type": "markdown",
   "metadata": {},
   "source": [
    "#### `date_trunc`"
   ]
  },
  {
   "cell_type": "markdown",
   "metadata": {},
   "source": [
    "reduce details of timestamp"
   ]
  },
  {
   "cell_type": "code",
   "execution_count": null,
   "metadata": {
    "vscode": {
     "languageId": "sql"
    }
   },
   "outputs": [],
   "source": [
    "select date_trunc('month','2020-10-04 12:33:35'::timestamp)\n",
    "-- return value in timestamp type"
   ]
  },
  {
   "cell_type": "markdown",
   "metadata": {},
   "source": [
    "#### `to_char`"
   ]
  },
  {
   "cell_type": "code",
   "execution_count": null,
   "metadata": {
    "vscode": {
     "languageId": "sql"
    }
   },
   "outputs": [],
   "source": [
    "select \n",
    "    to_char(current_date, 'YYYY-MM-DD')\n",
    "    ,to_char(current_timestamp, 'YYYY-MM-DD HH24:MI:SS')\n",
    "    ,to_char(current_date,'month') as MonthName\n",
    "    ,to_char(current_date, 'YYYY-MM') as YearMonth\n",
    "\t-- return value as string"
   ]
  },
  {
   "cell_type": "markdown",
   "metadata": {},
   "source": [
    "#### `date_part`, `extract`"
   ]
  },
  {
   "cell_type": "code",
   "execution_count": null,
   "metadata": {
    "vscode": {
     "languageId": "sql"
    }
   },
   "outputs": [],
   "source": [
    "select\n",
    "    date_part('month', current_timestamp)\n",
    "    ,extract('day' from current_timestamp)\n",
    "    ,extract(month from current_timestamp) -- month or 'month' is ok\n",
    "    ,extract('month' from current_timestamp)\n",
    "    -- return value as numeric"
   ]
  },
  {
   "cell_type": "markdown",
   "metadata": {},
   "source": [
    "### Date/time math"
   ]
  },
  {
   "cell_type": "code",
   "execution_count": null,
   "metadata": {
    "vscode": {
     "languageId": "sql"
    }
   },
   "outputs": [],
   "source": [
    "-- return the number of days elasped between two dates\n",
    "SELECT date('2020-06-30') - date('2020-05-31') as days -- The number of days is inclusive of only one of the endpoints\n",
    "    ,date('2020-05-31') - date('2020-06-30') as days"
   ]
  },
  {
   "cell_type": "code",
   "execution_count": null,
   "metadata": {
    "vscode": {
     "languageId": "sql"
    }
   },
   "outputs": [],
   "source": [
    "-- add interval to date\n",
    "SELECT date('2020-06-01') + interval '7 days' as new_date -- highly recommended\n",
    "    ,date('2020-06-01') + 7 as new_date\n",
    "    ,date('2020-06-01') - 7 as new_date\n",
    "    ,date('2020-06-01') + interval '2 month' as new_date\n",
    "    ,date('2020-06-01') + interval '2 hour'"
   ]
  },
  {
   "cell_type": "code",
   "execution_count": null,
   "metadata": {
    "vscode": {
     "languageId": "sql"
    }
   },
   "outputs": [],
   "source": [
    "-- add/subtract interval to time, time to time\n",
    "SELECT time '05:00' + interval '3 hours' as new_time\n",
    "    ,time '05:00' - interval '3 hours' as new_time\n",
    "    ,time '05:00' - time '03:00' as time_diff -- return { \"hour\": 2 }"
   ]
  },
  {
   "cell_type": "markdown",
   "metadata": {},
   "source": [
    "## 2.3. Numeric manipulations"
   ]
  },
  {
   "cell_type": "markdown",
   "metadata": {},
   "source": [
    "#### `round` function"
   ]
  },
  {
   "cell_type": "code",
   "execution_count": null,
   "metadata": {
    "vscode": {
     "languageId": "sql"
    }
   },
   "outputs": [],
   "source": [
    "SELECT ROUND(1234.56789, 3);"
   ]
  },
  {
   "cell_type": "markdown",
   "metadata": {},
   "source": [
    "## 2.4. Text manipulations"
   ]
  },
  {
   "cell_type": "markdown",
   "metadata": {},
   "source": [
    "#### `replace` function"
   ]
  },
  {
   "cell_type": "code",
   "execution_count": null,
   "metadata": {
    "vscode": {
     "languageId": "sql"
    }
   },
   "outputs": [],
   "source": [
    "select REPLACE('i have 10 apples','0','')"
   ]
  },
  {
   "cell_type": "markdown",
   "metadata": {},
   "source": [
    "#### `split_part` function"
   ]
  },
  {
   "cell_type": "markdown",
   "metadata": {},
   "source": [
    "Split text with delimiter"
   ]
  },
  {
   "cell_type": "code",
   "execution_count": null,
   "metadata": {
    "vscode": {
     "languageId": "sql"
    }
   },
   "outputs": [],
   "source": [
    "SELECT split_part('This is an example of an example string'\n",
    "        ,'an example'\n",
    "        ,1)\n",
    "    -- output: This is\n",
    "    ,split_part('This is an example of an example string'\n",
    "        ,'an example'\n",
    "        ,2); \n",
    "    -- output: of\n",
    "\n",
    "-- Note that spaces in the text will be retained \n",
    "-- unless specified as part of the delimiter."
   ]
  }
 ],
 "metadata": {
  "kernelspec": {
   "display_name": "base",
   "language": "python",
   "name": "python3"
  },
  "language_info": {
   "codemirror_mode": {
    "name": "ipython",
    "version": 3
   },
   "file_extension": ".py",
   "mimetype": "text/x-python",
   "name": "python",
   "nbconvert_exporter": "python",
   "pygments_lexer": "ipython3",
   "version": "3.11.7"
  }
 },
 "nbformat": 4,
 "nbformat_minor": 2
}
