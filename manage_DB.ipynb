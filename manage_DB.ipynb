{
 "cells": [
  {
   "cell_type": "markdown",
   "metadata": {},
   "source": [
    "# 1. Table"
   ]
  },
  {
   "cell_type": "markdown",
   "metadata": {},
   "source": [
    "#### Creating/dropping table"
   ]
  },
  {
   "cell_type": "code",
   "execution_count": null,
   "metadata": {
    "vscode": {
     "languageId": "sql"
    }
   },
   "outputs": [],
   "source": [
    "DROP table if exists public.earthquakes;\n",
    "CREATE table public.earthquakes\n",
    "(\n",
    "\ttime timestamp\n",
    "\t,latitude decimal\n",
    "\t,longitude decimal\n",
    "\t,depth decimal\n",
    "\t,mag decimal\n",
    "\t,magType varchar\n",
    "\t,nst decimal\n",
    "\t,gap decimal\n",
    "\t,dmin decimal\n",
    "\t,rms decimal\n",
    "\t,net varchar\n",
    "\t,id varchar\n",
    "\t,updated timestamp\n",
    "\t,place varchar\n",
    "\t,type varchar\n",
    "\t,horizontalError decimal\n",
    "\t,depthError decimal\n",
    "\t,magError decimal\n",
    "\t,magNst decimal\n",
    "\t,status varchar\n",
    "\t,locationSource varchar\n",
    "\t,magSource varchar\n",
    ")\n",
    ";\n",
    "\n",
    "COPY public.earthquakes FROM '/localpath/earthquakes1.csv' DELIMITER ',' CSV HEADER;"
   ]
  },
  {
   "cell_type": "markdown",
   "metadata": {},
   "source": [
    "#### Describing table"
   ]
  },
  {
   "cell_type": "code",
   "execution_count": null,
   "metadata": {
    "vscode": {
     "languageId": "sql"
    }
   },
   "outputs": [],
   "source": [
    "SELECT column_name, data_type, character_maximum_length, is_nullable\n",
    "FROM information_schema.columns\n",
    "WHERE table_name = 'table_name';"
   ]
  },
  {
   "cell_type": "markdown",
   "metadata": {},
   "source": [
    "#### Insert data"
   ]
  },
  {
   "cell_type": "code",
   "execution_count": null,
   "metadata": {
    "vscode": {
     "languageId": "sql"
    }
   },
   "outputs": [],
   "source": [
    "insert into student values(2, 'Kate', 'Sociology');\n",
    "insert into student(student_id, name) values(3, 'Claire'); \n",
    "insert into student values(4, 'Jack', 'Biology');\n",
    "insert into student values(5, 'Mike', 'Computer Science');"
   ]
  },
  {
   "cell_type": "markdown",
   "metadata": {},
   "source": [
    "#### Constraints"
   ]
  },
  {
   "cell_type": "code",
   "execution_count": null,
   "metadata": {
    "vscode": {
     "languageId": "sql"
    }
   },
   "outputs": [],
   "source": [
    "drop table student;\n",
    "\n",
    "create table student (\n",
    "    student_id int primary key,\n",
    "    name varchar(20) not null,\n",
    "    major varchar(20) unique\n",
    ");\n",
    "\n",
    "create table student (\n",
    "    student_id int primary key,\n",
    "    name varchar(20) not null,\n",
    "    major varchar(20) DEFAULT('undecided')\n",
    ");\n",
    "\n",
    "create table student (\n",
    "    student_id int auto_increment,\n",
    "    name varchar(20) not null,\n",
    "    major varchar(20) DEFAULT('undecided'),\n",
    "    primary key(student_id)\n",
    ");"
   ]
  },
  {
   "cell_type": "markdown",
   "metadata": {},
   "source": [
    "#### Update and delete data"
   ]
  },
  {
   "cell_type": "code",
   "execution_count": null,
   "metadata": {
    "vscode": {
     "languageId": "sql"
    }
   },
   "outputs": [],
   "source": [
    "update student set major = 'Bio' where major = 'Biology';\n",
    "update student set major = 'CS' where major = 'Computer Science';\n",
    "update student set major = 'CS' where student_id = 4;\n",
    "\n",
    "update student set major = 'Biochemistry' \n",
    "where major = 'Bio' or major = 'Chemistry';\n",
    "\n",
    "update student set name = 'Tom', major = 'undecided'\n",
    "where student_id = 1;\n",
    "\n",
    "update student set major = 'undecided';\n",
    "\n",
    "delete from student; -- delete all the rows\n",
    "delete from student where student_id = 5;\n",
    "delete from student where name = 'Tom' and major = 'undecided'"
   ]
  },
  {
   "cell_type": "markdown",
   "metadata": {},
   "source": [
    "#### Creating view"
   ]
  },
  {
   "cell_type": "code",
   "execution_count": null,
   "metadata": {
    "vscode": {
     "languageId": "sql"
    }
   },
   "outputs": [],
   "source": [
    "Create View PercentPopulationVaccinated as\n",
    "Select \n",
    "    dea.continent\n",
    "    ,dea.location\n",
    "    ,dea.date\n",
    "    ,dea.population\n",
    "    ,vac.new_vaccinations\n",
    "    ,SUM(vac.new_vaccinations::int) OVER (Partition by dea.Location Order by dea.location, dea.Date) \n",
    "        as RollingPeopleVaccinated\n",
    "    ,(SUM(vac.new_vaccinations::int) OVER (Partition by dea.Location Order by dea.location, dea.Date) * 100.0 / dea.population)::decimal(5,2)\n",
    "        as pct\n",
    "From covid_death dea\n",
    "Join covid_vacination vac\n",
    "    On dea.location = vac.location\n",
    "    and dea.date = vac.date\n",
    "where dea.continent is not null \n",
    ";\n",
    "\n",
    "select * from PercentPopulationVaccinated;"
   ]
  }
 ],
 "metadata": {
  "language_info": {
   "name": "python"
  }
 },
 "nbformat": 4,
 "nbformat_minor": 2
}
